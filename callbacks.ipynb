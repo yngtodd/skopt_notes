{
 "cells": [
  {
   "cell_type": "markdown",
   "metadata": {},
   "source": [
    "# Callbacks in Scikit-Optimize\n",
    "\n",
    "Todd Young\n",
    "\n",
    "## Introduction \n",
    "\n",
    "Callbacks are functions that, when passed as an argument to another function, are invoked after some event in the parent function completes.\n",
    "\n",
    "Callbacks in Scikit-Optimize can give you a view into what is happening in your optimization. This can be as simple as making the optimization verbose or timing the the iterations of your optimization procedure. Callbacks can also give you finer control over the optimization procedure through early stopping. For those who need something a bit beyond what the default functions can provide, it is even possible to write custom callbacks.\n",
    "\n",
    "Let's take a look at Scikit-Optimize's monitoring and early stopping callbacks as well as how to write your own custom callback. Say you are looking at the following Hartmann 3 function [[1]](http://www-optima.amp.i.kyoto-u.ac.jp/member/student/hedar/Hedar_files/TestGO_files/Page1488.htm) and would like find its global minimum using a Gaussian process."
   ]
  },
  {
   "cell_type": "code",
   "execution_count": 1,
   "metadata": {
    "collapsed": true
   },
   "outputs": [],
   "source": [
    "import numpy as np\n",
    "\n",
    "def hart3(x,\n",
    "          alpha=np.asarray([1.0, 1.2, 3.0, 3.2]),\n",
    "          P=10**-4 * np.asarray([[3689, 1170, 2673],\n",
    "                                 [4699, 4387, 7470],\n",
    "                                 [1091, 8732, 5547],\n",
    "                                 [381, 5743, 8828]]),                   \n",
    "          A=np.asarray([[3.0, 10, 30],\n",
    "                       [0.1, 10, 35],\n",
    "                       [3.0, 10, 30],\n",
    "                       [0.1, 10, 35]])):\n",
    "    \"\"\"\n",
    "    The 3-dimensional Hartmann function with 4 local minima.\n",
    "    The function is usually evaluated on the hypercube xi ∈ (0, 1), for all i = 1, 2, 3.\n",
    "    Global minimum is at f(x*) = -3.86278 at x* = (0.114613, 0.555649, 0.852547)\n",
    "    See more here: http://www.sfu.ca/~ssurjano/hart3.html\n",
    "    \"\"\"\n",
    "    return -np.sum(alpha * np.exp(-np.sum(A * (np.array(x) - P)**2, axis=1)))"
   ]
  },
  {
   "cell_type": "markdown",
   "metadata": {},
   "source": [
    "## Verbose Mode\n",
    "\n",
    "The simplest callback comes in the form of verbose mode. Since it can be a bit worrisome to wait on your function to finish without any feedback, many Python libraries having iterative processes provide a verbose mode, and skopt is no exception. "
   ]
  },
  {
   "cell_type": "code",
   "execution_count": 3,
   "metadata": {
    "scrolled": true
   },
   "outputs": [
    {
     "name": "stdout",
     "output_type": "stream",
     "text": [
      "Iteration No: 1 started. Evaluating function at random point.\n",
      "Iteration No: 1 ended. Evaluation done at random point.\n",
      "Time taken: 0.0019\n",
      "Function value obtained: -0.5198\n",
      "Current minimum: -0.5198\n",
      "Iteration No: 2 started. Evaluating function at random point.\n",
      "Iteration No: 2 ended. Evaluation done at random point.\n",
      "Time taken: 0.0008\n",
      "Function value obtained: -0.8106\n",
      "Current minimum: -0.8106\n",
      "Iteration No: 3 started. Evaluating function at random point.\n",
      "Iteration No: 3 ended. Evaluation done at random point.\n",
      "Time taken: 0.0008\n",
      "Function value obtained: -0.2488\n",
      "Current minimum: -0.8106\n",
      "Iteration No: 4 started. Evaluating function at random point.\n",
      "Iteration No: 4 ended. Evaluation done at random point.\n",
      "Time taken: 0.0008\n",
      "Function value obtained: -1.9504\n",
      "Current minimum: -1.9504\n",
      "Iteration No: 5 started. Evaluating function at random point.\n",
      "Iteration No: 5 ended. Evaluation done at random point.\n",
      "Time taken: 0.0008\n",
      "Function value obtained: -0.5765\n",
      "Current minimum: -1.9504\n"
     ]
    }
   ],
   "source": [
    "from skopt import gp_minimize\n",
    "\n",
    "dimensions  = [(0.0, 1.0), # Bounds to search for each dimension\n",
    "               (0.0, 1.0),\n",
    "               (0.0, 1.0)]           \n",
    "\n",
    "res = gp_minimize(hart3,                  # the function to minimize\n",
    "                  dimensions=dimensions,  # the bounds on each dimension of x\n",
    "                  acq_func=\"EI\",          # the acquisition function\n",
    "                  n_calls=5,             # the number of evaluations of our function \n",
    "                  n_random_starts=5,      # the number of random initialization points\n",
    "                  random_state=123,       # the random state\n",
    "                  verbose=True)           # the verbose callback!"
   ]
  },
  {
   "cell_type": "markdown",
   "metadata": {},
   "source": [
    "#### Verbose is a Callback\n",
    "\n",
    "When we set `verbose=True`, we are invoking a callback. Here is what is what is happening under the hood:\n",
    "\n",
    "To see that this is really happening, let's do something absurd. Let's set `verbose=False`, and then explicitly call the `VerboseCallback` class in our `callback` argument. This gives us the same output as when we set `verbose=True`."
   ]
  },
  {
   "cell_type": "code",
   "execution_count": 4,
   "metadata": {
    "scrolled": true
   },
   "outputs": [
    {
     "name": "stdout",
     "output_type": "stream",
     "text": [
      "Iteration No: 1 started. Searching for the next optimal point.\n",
      "Iteration No: 1 ended. Search finished for the next optimal point.\n",
      "Time taken: 0.0201\n",
      "Function value obtained: -0.5198\n",
      "Current minimum: -0.5198\n",
      "Iteration No: 2 started. Searching for the next optimal point.\n",
      "Iteration No: 2 ended. Search finished for the next optimal point.\n",
      "Time taken: 0.0007\n",
      "Function value obtained: -0.8106\n",
      "Current minimum: -0.8106\n",
      "Iteration No: 3 started. Searching for the next optimal point.\n",
      "Iteration No: 3 ended. Search finished for the next optimal point.\n",
      "Time taken: 0.0008\n",
      "Function value obtained: -0.2488\n",
      "Current minimum: -0.8106\n",
      "Iteration No: 4 started. Searching for the next optimal point.\n",
      "Iteration No: 4 ended. Search finished for the next optimal point.\n",
      "Time taken: 0.0008\n",
      "Function value obtained: -1.9504\n",
      "Current minimum: -1.9504\n",
      "Iteration No: 5 started. Searching for the next optimal point.\n",
      "Iteration No: 5 ended. Search finished for the next optimal point.\n",
      "Time taken: 0.0008\n",
      "Function value obtained: -0.5765\n",
      "Current minimum: -1.9504\n"
     ]
    }
   ],
   "source": [
    "from skopt.callbacks import VerboseCallback\n",
    "\n",
    "res = gp_minimize(hart3,                  \n",
    "                  dimensions=dimensions,  \n",
    "                  acq_func=\"EI\",          \n",
    "                  n_calls=5,         \n",
    "                  n_random_starts=5,      \n",
    "                  random_state=123,       \n",
    "                  verbose=False,                         # Note this is False! \n",
    "                  callback=VerboseCallback(n_total=5))   # explicitly calling the callback!"
   ]
  },
  {
   "cell_type": "markdown",
   "metadata": {},
   "source": [
    "## Timer Callback \n",
    "\n",
    "You may have noticed that verbose mode gave the time taken for each iteration to complete. What if we would like to keep that information for later use? Scikit-Optimize has a callback for that, the timer callback. "
   ]
  },
  {
   "cell_type": "code",
   "execution_count": 50,
   "metadata": {
    "collapsed": true
   },
   "outputs": [],
   "source": [
    "from skopt.callbacks import TimerCallback\n",
    "\n",
    "keep_time = TimerCallback()\n",
    "\n",
    "res = gp_minimize(hart3,                  \n",
    "                  dimensions=dimensions,  \n",
    "                  acq_func=\"EI\",          \n",
    "                  n_calls=15,         \n",
    "                  n_random_starts=5,      \n",
    "                  random_state=123,       \n",
    "                  verbose=False,         \n",
    "                  callback=keep_time)   # store our evaluation time"
   ]
  },
  {
   "cell_type": "markdown",
   "metadata": {},
   "source": [
    "After initializing the `TimerCallback` class, we simply pass it to our optimization procedue with the `callback` argument. This call back then quietly stores of the time spent on each iteration of the optimization in a list of floats.\n",
    "\n",
    "From there, we could find "
   ]
  },
  {
   "cell_type": "code",
   "execution_count": 51,
   "metadata": {},
   "outputs": [
    {
     "name": "stdout",
     "output_type": "stream",
     "text": [
      "Shortest time for an iteration to comlete: 0.0002031 Seconds\n",
      "Average time per iteration of our optimization: 0.2694 Seconds\n",
      "Longest time for an iteration to complete: 0.4569 Seconds\n",
      "Total time for optimization: 4.041 Seconds\n",
      "\n",
      "Function minimum found by optimization: -3.844\n"
     ]
    }
   ],
   "source": [
    "iter_time_min = min(keep_time.iter_time)\n",
    "iter_time_ave = sum(keep_time.iter_time) / len(keep_time.iter_time)\n",
    "iter_time_max = max(keep_time.iter_time)\n",
    "iter_time_total = sum(keep_time.iter_time)\n",
    "\n",
    "print(\"Shortest time for an iteration to comlete: {:.4} Seconds\".format(iter_time_min))\n",
    "print(\"Average time per iteration of our optimization: {:.4} Seconds\".format(iter_time_ave))\n",
    "print(\"Longest time for an iteration to complete: {:.4} Seconds\".format(iter_time_max))\n",
    "print(\"Total time for optimization: {:.4} Seconds\\n\".format(iter_time_total))\n",
    "\n",
    "func_min = res.fun\n",
    "print(\"Function minimum found by optimization: {:.4}\".format(func_min))"
   ]
  },
  {
   "cell_type": "markdown",
   "metadata": {},
   "source": [
    "## Early Stopping\n",
    "\n",
    "The early stopping callback gives us finer control over the optimization procedure. Imagine you are running an optimization over some complicated function. How long should you let it run? If the problem is difficult, we will not know how many iterations we should run apriori. \n",
    "\n",
    "Let's run the same Gaussian process to find the minimum of the Hartmann 3 function. Just to make sure we give it ample time to search the space, let's let it run for 50 iterations. Let's also keep track of the amount of time the optimization takes. "
   ]
  },
  {
   "cell_type": "code",
   "execution_count": 39,
   "metadata": {},
   "outputs": [
    {
     "name": "stdout",
     "output_type": "stream",
     "text": [
      "Minimum found by optimization: -3.863\n",
      "Optimization total runtime: 22.31\n",
      "\n"
     ]
    }
   ],
   "source": [
    "from skopt.callbacks import TimerCallback\n",
    "\n",
    "keep_time = TimerCallback()\n",
    "\n",
    "res = gp_minimize(hart3,                  \n",
    "                  dimensions=dimensions,  \n",
    "                  acq_func=\"EI\",          \n",
    "                  n_calls=50,         \n",
    "                  n_random_starts=5,      \n",
    "                  random_state=123,       \n",
    "                  verbose=False,         \n",
    "                  callback=keep_time)   # store our evaluation time\n",
    "\n",
    "runtime = sum(keep_time.iter_time)\n",
    "func_min = res.fun\n",
    "\n",
    "print(\"Optimization total runtime: {:.4}\\n\".format(runtime))\n",
    "print(\"Minimum found by optimization: {:.4}\".format(func_min))s"
   ]
  },
  {
   "cell_type": "markdown",
   "metadata": {},
   "source": []
  },
  {
   "cell_type": "code",
   "execution_count": 10,
   "metadata": {},
   "outputs": [
    {
     "data": {
      "text/plain": [
       "<matplotlib.axes._subplots.AxesSubplot at 0x1110c7908>"
      ]
     },
     "execution_count": 10,
     "metadata": {},
     "output_type": "execute_result"
    },
    {
     "data": {
      "image/png": "[encoded data removed]",
      "text/plain": [
       "<matplotlib.figure.Figure at 0x110705240>"
      ]
     },
     "metadata": {},
     "output_type": "display_data"
    }
   ],
   "source": [
    "%matplotlib inline\n",
    "from skopt.plots import plot_convergence\n",
    "\n",
    "plot_convergence(res)"
   ]
  },
  {
   "cell_type": "code",
   "execution_count": null,
   "metadata": {
    "collapsed": true
   },
   "outputs": [],
   "source": []
  },
  {
   "cell_type": "code",
   "execution_count": 21,
   "metadata": {
    "collapsed": true
   },
   "outputs": [],
   "source": [
    "res_gp = gp_minimize(objective, space, n_calls=10, random_state=0, callback=have_the_time)"
   ]
  },
  {
   "cell_type": "code",
   "execution_count": 22,
   "metadata": {},
   "outputs": [
    {
     "data": {
      "text/plain": [
       "45"
      ]
     },
     "execution_count": 22,
     "metadata": {},
     "output_type": "execute_result"
    }
   ],
   "source": [
    "len(have_the_time.iter_time)"
   ]
  },
  {
   "cell_type": "code",
   "execution_count": 25,
   "metadata": {
    "collapsed": true
   },
   "outputs": [],
   "source": [
    "from skopt.callbacks import EarlyStopper, DeltaYStopper\n",
    "\n",
    "early_stop = DeltaYStopper(delta=0.5)"
   ]
  },
  {
   "cell_type": "code",
   "execution_count": 26,
   "metadata": {
    "scrolled": true
   },
   "outputs": [
    {
     "name": "stdout",
     "output_type": "stream",
     "text": [
      "Iteration No: 63 ended. Search finished for the next optimal point.\n",
      "Time taken: 978.5730\n",
      "Function value obtained: 6.3734\n",
      "Current minimum: 6.3734\n",
      "Iteration No: 64 ended. Search finished for the next optimal point.\n",
      "Time taken: 978.7911\n",
      "Function value obtained: 5.6234\n",
      "Current minimum: 5.6234\n",
      "Iteration No: 65 ended. Search finished for the next optimal point.\n",
      "Time taken: 979.0043\n",
      "Function value obtained: 3.6166\n",
      "Current minimum: 3.6166\n",
      "Iteration No: 66 ended. Search finished for the next optimal point.\n",
      "Time taken: 979.2358\n",
      "Function value obtained: 7.0728\n",
      "Current minimum: 3.6166\n",
      "Iteration No: 67 ended. Search finished for the next optimal point.\n",
      "Time taken: 979.4463\n",
      "Function value obtained: 5.9574\n",
      "Current minimum: 3.6166\n",
      "Iteration No: 68 ended. Search finished for the next optimal point.\n",
      "Time taken: 979.9679\n",
      "Function value obtained: 3.4509\n",
      "Current minimum: 3.4509\n",
      "Iteration No: 69 ended. Search finished for the next optimal point.\n",
      "Time taken: 980.3369\n",
      "Function value obtained: 4.1702\n",
      "Current minimum: 3.4509\n",
      "Iteration No: 70 ended. Search finished for the next optimal point.\n",
      "Time taken: 980.5927\n",
      "Function value obtained: 6.7676\n",
      "Current minimum: 3.4509\n",
      "Iteration No: 71 ended. Search finished for the next optimal point.\n",
      "Time taken: 980.9398\n",
      "Function value obtained: 6.6338\n",
      "Current minimum: 3.4509\n",
      "Iteration No: 72 ended. Search finished for the next optimal point.\n",
      "Time taken: 981.6491\n",
      "Function value obtained: 7.2145\n",
      "Current minimum: 3.4509\n",
      "Iteration No: 73 ended. Search finished for the next optimal point.\n",
      "Time taken: 982.7503\n",
      "Function value obtained: 3.8963\n",
      "Current minimum: 3.4509\n",
      "Iteration No: 74 ended. Search finished for the next optimal point.\n",
      "Time taken: 983.9533\n",
      "Function value obtained: 3.3224\n",
      "Current minimum: 3.3224\n",
      "Iteration No: 75 ended. Search finished for the next optimal point.\n",
      "Time taken: 985.0799\n",
      "Function value obtained: 3.3712\n",
      "Current minimum: 3.3224\n",
      "Iteration No: 76 ended. Search finished for the next optimal point.\n",
      "Time taken: 986.0539\n",
      "Function value obtained: 3.9613\n",
      "Current minimum: 3.3224\n",
      "Iteration No: 77 ended. Search finished for the next optimal point.\n",
      "Time taken: 986.9714\n",
      "Function value obtained: 3.3349\n",
      "Current minimum: 3.3224\n"
     ]
    }
   ],
   "source": [
    "res_gp = gp_minimize(objective, space, n_calls=100, random_state=0, callback=[talk_to_me, early_stop])"
   ]
  },
  {
   "cell_type": "code",
   "execution_count": 28,
   "metadata": {},
   "outputs": [
    {
     "data": {
      "text/plain": [
       "8"
      ]
     },
     "execution_count": 28,
     "metadata": {},
     "output_type": "execute_result"
    }
   ],
   "source": [
    "len(res_gp)"
   ]
  },
  {
   "cell_type": "code",
   "execution_count": 40,
   "metadata": {
    "collapsed": true,
    "scrolled": true
   },
   "outputs": [],
   "source": [
    "early_stop_time = TimerCallback()\n",
    "\n",
    "early_stop_small = DeltaYStopper(delta=0.01)\n",
    "res = gp_minimize(objective, space, n_calls=100, random_state=0, callback=[early_stop_time, early_stop_small])"
   ]
  },
  {
   "cell_type": "code",
   "execution_count": 44,
   "metadata": {},
   "outputs": [
    {
     "data": {
      "text/plain": [
       "26"
      ]
     },
     "execution_count": 44,
     "metadata": {},
     "output_type": "execute_result"
    }
   ],
   "source": [
    "len(early_stop_time.iter_time)"
   ]
  },
  {
   "cell_type": "code",
   "execution_count": 45,
   "metadata": {
    "collapsed": true
   },
   "outputs": [],
   "source": [
    "earlystop_largedelta = TimerCallback()\n",
    "\n",
    "early_stop_small = DeltaYStopper(delta=0.5)\n",
    "res = gp_minimize(objective, space, n_calls=100, random_state=0, callback=[earlystop_largedelta, early_stop_small])"
   ]
  },
  {
   "cell_type": "code",
   "execution_count": 48,
   "metadata": {},
   "outputs": [
    {
     "data": {
      "text/plain": [
       "15"
      ]
     },
     "execution_count": 48,
     "metadata": {},
     "output_type": "execute_result"
    }
   ],
   "source": [
    "len(earlystop_largedelta.iter_time)"
   ]
  },
  {
   "cell_type": "markdown",
   "metadata": {
    "collapsed": true
   },
   "source": [
    "## References \n",
    "\n",
    "[1] http://www-optima.amp.i.kyoto-u.ac.jp/member/student/hedar/Hedar_files/TestGO_files/Page1488.htm"
   ]
  }
 ],
 "metadata": {
  "kernelspec": {
   "display_name": "Python 3",
   "language": "python",
   "name": "python3"
  },
  "language_info": {
   "codemirror_mode": {
    "name": "ipython",
    "version": 3
   },
   "file_extension": ".py",
   "mimetype": "text/x-python",
   "name": "python",
   "nbconvert_exporter": "python",
   "pygments_lexer": "ipython3",
   "version": "3.6.1"
  }
 },
 "nbformat": 4,
 "nbformat_minor": 2
}
